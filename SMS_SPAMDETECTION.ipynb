{
 "cells": [
  {
   "cell_type": "markdown",
   "id": "4ac1e595",
   "metadata": {},
   "source": [
    "# SMS SPAM DETECTION"
   ]
  },
  {
   "cell_type": "code",
   "execution_count": 1,
   "id": "d006e9ec",
   "metadata": {},
   "outputs": [],
   "source": [
    "# Importing libraries \n",
    "\n",
    "import numpy as np\n",
    "import pandas as pd\n",
    "import seaborn as sns\n",
    "import matplotlib.pyplot as plt\n",
    "%matplotlib inline\n",
    "import nltk\n",
    "import string\n",
    "from nltk.corpus import stopwords\n",
    "from nltk.stem import SnowballStemmer"
   ]
  },
  {
   "cell_type": "code",
   "execution_count": 2,
   "id": "08d62931",
   "metadata": {},
   "outputs": [
    {
     "data": {
      "text/html": [
       "<div>\n",
       "<style scoped>\n",
       "    .dataframe tbody tr th:only-of-type {\n",
       "        vertical-align: middle;\n",
       "    }\n",
       "\n",
       "    .dataframe tbody tr th {\n",
       "        vertical-align: top;\n",
       "    }\n",
       "\n",
       "    .dataframe thead th {\n",
       "        text-align: right;\n",
       "    }\n",
       "</style>\n",
       "<table border=\"1\" class=\"dataframe\">\n",
       "  <thead>\n",
       "    <tr style=\"text-align: right;\">\n",
       "      <th></th>\n",
       "      <th>v1</th>\n",
       "      <th>v2</th>\n",
       "      <th>Unnamed: 2</th>\n",
       "      <th>Unnamed: 3</th>\n",
       "      <th>Unnamed: 4</th>\n",
       "    </tr>\n",
       "  </thead>\n",
       "  <tbody>\n",
       "    <tr>\n",
       "      <th>0</th>\n",
       "      <td>ham</td>\n",
       "      <td>Go until jurong point, crazy.. Available only ...</td>\n",
       "      <td>NaN</td>\n",
       "      <td>NaN</td>\n",
       "      <td>NaN</td>\n",
       "    </tr>\n",
       "    <tr>\n",
       "      <th>1</th>\n",
       "      <td>ham</td>\n",
       "      <td>Ok lar... Joking wif u oni...</td>\n",
       "      <td>NaN</td>\n",
       "      <td>NaN</td>\n",
       "      <td>NaN</td>\n",
       "    </tr>\n",
       "    <tr>\n",
       "      <th>2</th>\n",
       "      <td>spam</td>\n",
       "      <td>Free entry in 2 a wkly comp to win FA Cup fina...</td>\n",
       "      <td>NaN</td>\n",
       "      <td>NaN</td>\n",
       "      <td>NaN</td>\n",
       "    </tr>\n",
       "    <tr>\n",
       "      <th>3</th>\n",
       "      <td>ham</td>\n",
       "      <td>U dun say so early hor... U c already then say...</td>\n",
       "      <td>NaN</td>\n",
       "      <td>NaN</td>\n",
       "      <td>NaN</td>\n",
       "    </tr>\n",
       "    <tr>\n",
       "      <th>4</th>\n",
       "      <td>ham</td>\n",
       "      <td>Nah I don't think he goes to usf, he lives aro...</td>\n",
       "      <td>NaN</td>\n",
       "      <td>NaN</td>\n",
       "      <td>NaN</td>\n",
       "    </tr>\n",
       "  </tbody>\n",
       "</table>\n",
       "</div>"
      ],
      "text/plain": [
       "     v1                                                 v2 Unnamed: 2  \\\n",
       "0   ham  Go until jurong point, crazy.. Available only ...        NaN   \n",
       "1   ham                      Ok lar... Joking wif u oni...        NaN   \n",
       "2  spam  Free entry in 2 a wkly comp to win FA Cup fina...        NaN   \n",
       "3   ham  U dun say so early hor... U c already then say...        NaN   \n",
       "4   ham  Nah I don't think he goes to usf, he lives aro...        NaN   \n",
       "\n",
       "  Unnamed: 3 Unnamed: 4  \n",
       "0        NaN        NaN  \n",
       "1        NaN        NaN  \n",
       "2        NaN        NaN  \n",
       "3        NaN        NaN  \n",
       "4        NaN        NaN  "
      ]
     },
     "execution_count": 2,
     "metadata": {},
     "output_type": "execute_result"
    }
   ],
   "source": [
    "#loading the dataset csv file\n",
    "data = pd.read_csv(\"spam.csv\")\n",
    "data.head()"
   ]
  },
  {
   "cell_type": "code",
   "execution_count": 3,
   "id": "d9a0ec0e",
   "metadata": {},
   "outputs": [
    {
     "name": "stdout",
     "output_type": "stream",
     "text": [
      "<class 'pandas.core.frame.DataFrame'>\n",
      "RangeIndex: 5572 entries, 0 to 5571\n",
      "Data columns (total 5 columns):\n",
      " #   Column      Non-Null Count  Dtype \n",
      "---  ------      --------------  ----- \n",
      " 0   v1          5572 non-null   object\n",
      " 1   v2          5572 non-null   object\n",
      " 2   Unnamed: 2  50 non-null     object\n",
      " 3   Unnamed: 3  12 non-null     object\n",
      " 4   Unnamed: 4  6 non-null      object\n",
      "dtypes: object(5)\n",
      "memory usage: 217.8+ KB\n"
     ]
    }
   ],
   "source": [
    "#printing the information the dataset\n",
    "data.info()"
   ]
  },
  {
   "cell_type": "code",
   "execution_count": 4,
   "id": "c746f997",
   "metadata": {},
   "outputs": [
    {
     "data": {
      "text/plain": [
       "v1               0\n",
       "v2               0\n",
       "Unnamed: 2    5522\n",
       "Unnamed: 3    5560\n",
       "Unnamed: 4    5566\n",
       "dtype: int64"
      ]
     },
     "execution_count": 4,
     "metadata": {},
     "output_type": "execute_result"
    }
   ],
   "source": [
    "#sum of null values before data cleaning\n",
    "data.isnull().sum()"
   ]
  },
  {
   "cell_type": "markdown",
   "id": "80e3e09b",
   "metadata": {},
   "source": [
    "### Data Preprocessing"
   ]
  },
  {
   "cell_type": "code",
   "execution_count": 5,
   "id": "6eaf717f",
   "metadata": {},
   "outputs": [],
   "source": [
    "#removing the unwanted columns\n",
    "data.drop(columns=[\"Unnamed: 2\", \"Unnamed: 3\", \"Unnamed: 4\"], inplace=True)"
   ]
  },
  {
   "cell_type": "code",
   "execution_count": 6,
   "id": "46f0dbda",
   "metadata": {},
   "outputs": [
    {
     "data": {
      "text/plain": [
       "v1    0\n",
       "v2    0\n",
       "dtype: int64"
      ]
     },
     "execution_count": 6,
     "metadata": {},
     "output_type": "execute_result"
    }
   ],
   "source": [
    "#null values after data cleaning\n",
    "data.isnull().sum()"
   ]
  },
  {
   "cell_type": "code",
   "execution_count": 7,
   "id": "2c848319",
   "metadata": {},
   "outputs": [
    {
     "data": {
      "text/html": [
       "<div>\n",
       "<style scoped>\n",
       "    .dataframe tbody tr th:only-of-type {\n",
       "        vertical-align: middle;\n",
       "    }\n",
       "\n",
       "    .dataframe tbody tr th {\n",
       "        vertical-align: top;\n",
       "    }\n",
       "\n",
       "    .dataframe thead th {\n",
       "        text-align: right;\n",
       "    }\n",
       "</style>\n",
       "<table border=\"1\" class=\"dataframe\">\n",
       "  <thead>\n",
       "    <tr style=\"text-align: right;\">\n",
       "      <th></th>\n",
       "      <th>v1</th>\n",
       "      <th>v2</th>\n",
       "    </tr>\n",
       "  </thead>\n",
       "  <tbody>\n",
       "    <tr>\n",
       "      <th>0</th>\n",
       "      <td>ham</td>\n",
       "      <td>Go until jurong point, crazy.. Available only ...</td>\n",
       "    </tr>\n",
       "    <tr>\n",
       "      <th>1</th>\n",
       "      <td>ham</td>\n",
       "      <td>Ok lar... Joking wif u oni...</td>\n",
       "    </tr>\n",
       "    <tr>\n",
       "      <th>2</th>\n",
       "      <td>spam</td>\n",
       "      <td>Free entry in 2 a wkly comp to win FA Cup fina...</td>\n",
       "    </tr>\n",
       "    <tr>\n",
       "      <th>3</th>\n",
       "      <td>ham</td>\n",
       "      <td>U dun say so early hor... U c already then say...</td>\n",
       "    </tr>\n",
       "    <tr>\n",
       "      <th>4</th>\n",
       "      <td>ham</td>\n",
       "      <td>Nah I don't think he goes to usf, he lives aro...</td>\n",
       "    </tr>\n",
       "  </tbody>\n",
       "</table>\n",
       "</div>"
      ],
      "text/plain": [
       "     v1                                                 v2\n",
       "0   ham  Go until jurong point, crazy.. Available only ...\n",
       "1   ham                      Ok lar... Joking wif u oni...\n",
       "2  spam  Free entry in 2 a wkly comp to win FA Cup fina...\n",
       "3   ham  U dun say so early hor... U c already then say...\n",
       "4   ham  Nah I don't think he goes to usf, he lives aro..."
      ]
     },
     "execution_count": 7,
     "metadata": {},
     "output_type": "execute_result"
    }
   ],
   "source": [
    "#printing the data after cleaning\n",
    "data.head()"
   ]
  },
  {
   "cell_type": "code",
   "execution_count": 8,
   "id": "769233aa",
   "metadata": {},
   "outputs": [
    {
     "data": {
      "text/plain": [
       "ham     4825\n",
       "spam     747\n",
       "Name: v1, dtype: int64"
      ]
     },
     "execution_count": 8,
     "metadata": {},
     "output_type": "execute_result"
    }
   ],
   "source": [
    "data.v1.value_counts()"
   ]
  },
  {
   "cell_type": "markdown",
   "id": "c54fd985",
   "metadata": {},
   "source": [
    "Number of ham and spam messages in the dataset"
   ]
  },
  {
   "cell_type": "code",
   "execution_count": 9,
   "id": "bd95b01c",
   "metadata": {},
   "outputs": [
    {
     "data": {
      "text/plain": [
       "<AxesSubplot:xlabel='v1', ylabel='count'>"
      ]
     },
     "execution_count": 9,
     "metadata": {},
     "output_type": "execute_result"
    },
    {
     "data": {
      "image/png": "[encoded data removed]",
      "text/plain": [
       "<Figure size 432x288 with 1 Axes>"
      ]
     },
     "metadata": {
      "needs_background": "light"
     },
     "output_type": "display_data"
    }
   ],
   "source": [
    "sns.countplot(x=data.v1)"
   ]
  },
  {
   "cell_type": "markdown",
   "id": "aac906d4",
   "metadata": {},
   "source": [
    "We can see that our dataset contains mainly ham messages. This would limit the capability of model to classify correctly, but we can give it a try!"
   ]
  },
  {
   "cell_type": "code",
   "execution_count": 10,
   "id": "980d311e",
   "metadata": {},
   "outputs": [
    {
     "name": "stderr",
     "output_type": "stream",
     "text": [
      "<ipython-input-10-db402d0bc893>:12: FutureWarning: The default value of regex will change from True to False in a future version.\n",
      "  data.Text = data.Text.str.replace(r'[.,\\\\&;!:-?(|)#@$^%*0-9/\\'\\\"+={|}~`_[|]]*', '')\n"
     ]
    },
    {
     "data": {
      "text/html": [
       "<div>\n",
       "<style scoped>\n",
       "    .dataframe tbody tr th:only-of-type {\n",
       "        vertical-align: middle;\n",
       "    }\n",
       "\n",
       "    .dataframe tbody tr th {\n",
       "        vertical-align: top;\n",
       "    }\n",
       "\n",
       "    .dataframe thead th {\n",
       "        text-align: right;\n",
       "    }\n",
       "</style>\n",
       "<table border=\"1\" class=\"dataframe\">\n",
       "  <thead>\n",
       "    <tr style=\"text-align: right;\">\n",
       "      <th></th>\n",
       "      <th>Spam</th>\n",
       "      <th>Text</th>\n",
       "      <th>Length</th>\n",
       "    </tr>\n",
       "  </thead>\n",
       "  <tbody>\n",
       "    <tr>\n",
       "      <th>0</th>\n",
       "      <td>0</td>\n",
       "      <td>jurong point crazy available bugis great world...</td>\n",
       "      <td>75</td>\n",
       "    </tr>\n",
       "    <tr>\n",
       "      <th>1</th>\n",
       "      <td>0</td>\n",
       "      <td>lar joking wif oni</td>\n",
       "      <td>20</td>\n",
       "    </tr>\n",
       "    <tr>\n",
       "      <th>2</th>\n",
       "      <td>1</td>\n",
       "      <td>free entry wkly comp win cup final tkts may te...</td>\n",
       "      <td>100</td>\n",
       "    </tr>\n",
       "    <tr>\n",
       "      <th>3</th>\n",
       "      <td>0</td>\n",
       "      <td>dun say early hor already say</td>\n",
       "      <td>30</td>\n",
       "    </tr>\n",
       "    <tr>\n",
       "      <th>4</th>\n",
       "      <td>0</td>\n",
       "      <td>nah dont think goes usf lives around though</td>\n",
       "      <td>50</td>\n",
       "    </tr>\n",
       "  </tbody>\n",
       "</table>\n",
       "</div>"
      ],
      "text/plain": [
       "   Spam                                               Text Length\n",
       "0     0  jurong point crazy available bugis great world...     75\n",
       "1     0                                 lar joking wif oni     20\n",
       "2     1  free entry wkly comp win cup final tkts may te...    100\n",
       "3     0                      dun say early hor already say     30\n",
       "4     0        nah dont think goes usf lives around though     50"
      ]
     },
     "execution_count": 10,
     "metadata": {},
     "output_type": "execute_result"
    }
   ],
   "source": [
    "stemmer = SnowballStemmer(\"english\")\n",
    "\n",
    "def simplify_data(data):\n",
    "    # Create new tables named \"Spam\" and \"Text\"\n",
    "    # Convert ham/spam to 0/1, 1 indicating Spam and fill them under Spam\n",
    "    # Clean text by removing all special characters\n",
    "    # Drop unwanted columns\n",
    "    \n",
    "    data = pd.read_csv(\"spam.csv\")          # Refreshing data, just in-case the code is ran after running further modules\n",
    "    data[\"Spam\"] = data.v1.map({'ham':0, 'spam':1})\n",
    "    data[\"Text\"] = data.v2.str.lower()\n",
    "    data.Text = data.Text.str.replace(r'[.,\\\\&;!:-?(|)#@$^%*0-9/\\'\\\"+={|}~`_[|]]*', '')\n",
    "    data = data.drop([\"v1\", \"v2\", \"Unnamed: 2\", \"Unnamed: 3\", \"Unnamed: 4\"], axis=1)\n",
    "    return data\n",
    "    \n",
    "def remove_stopwords(message):\n",
    "    # Remove stop words from the text\n",
    "    \n",
    "    stop_words = set(stopwords.words('english'))\n",
    "    message = message.translate(str.maketrans('', '', string.punctuation))\n",
    "    text = [word for word in message.split() if word not in stop_words and len(word) > 2]\n",
    "    return \" \".join(text)\n",
    "\n",
    "def text_length(text):\n",
    "    return len(text)\n",
    "    \n",
    "def format_length(data):\n",
    "    data[\"Length\"] = data.Text.apply(text_length)\n",
    "    data.Length = pd.cut(data.Length, [-1, 10, 20, 30, 50, 75, 100, 999], labels=[10,20,30,50,75,100,200])\n",
    "    return data\n",
    "    \n",
    "def apply_transformations(data):\n",
    "    data = simplify_data(data)\n",
    "    data.Text = data.Text.apply(remove_stopwords)\n",
    "    data = format_length(data)\n",
    "    return data\n",
    "\n",
    "data = apply_transformations(data)\n",
    "data.head()"
   ]
  },
  {
   "cell_type": "code",
   "execution_count": 11,
   "id": "55501524",
   "metadata": {
    "scrolled": false
   },
   "outputs": [
    {
     "data": {
      "text/plain": [
       "<AxesSubplot:xlabel='Length', ylabel='count'>"
      ]
     },
     "execution_count": 11,
     "metadata": {},
     "output_type": "execute_result"
    },
    {
     "data": {
      "image/png": "[encoded data removed]",
      "text/plain": [
       "<Figure size 1152x720 with 1 Axes>"
      ]
     },
     "metadata": {
      "needs_background": "light"
     },
     "output_type": "display_data"
    }
   ],
   "source": [
    "plt.figure(figsize=(16,10))\n",
    "plt.xlabel(\"Length\")\n",
    "plt.ylabel(\"Number of Spam messages\")\n",
    "sns.countplot(x=data.Length, hue=data.Spam)"
   ]
  },
  {
   "cell_type": "markdown",
   "id": "dec06abb",
   "metadata": {},
   "source": [
    "We can see that most messages with less length were mostly Ham messages and that the spam messages have a comparatively very small area. We can use this data further for classification. We also binned the lengths due to the broad spread it had previously."
   ]
  },
  {
   "cell_type": "code",
   "execution_count": 12,
   "id": "34178e7c",
   "metadata": {},
   "outputs": [],
   "source": [
    "# For the first model, we will try to create a feature of our own\n",
    "# We can calculate number of spam words and the number of ham words\n",
    "# These numbers can be compared to make out whether a message has\n",
    "# more ham features or more spam features\n",
    "\n",
    "# Calculating the number of Spam/Ham words in a message and Storing\n",
    "# the diff Spam-Ham(0 if Ham>Spam, 1 if Spam>Ham))\n",
    "\n",
    "\n",
    "# Create a list of all words occuring in Spam/Ham\n",
    "spam_words = []\n",
    "ham_words = []\n",
    "\n",
    "def getSpam(text):\n",
    "    global spam_words, spam_messages\n",
    "    messages = text.split()\n",
    "    words = [x for x in messages]\n",
    "    spam_words += words\n",
    "    \n",
    "def getHam(text):\n",
    "    global ham_words, ham_messages\n",
    "    messages = text.split()\n",
    "    words = [x for x in messages]\n",
    "    ham_words += words\n",
    "    \n",
    "# Separate spam and ham messages\n",
    "spam_messages = data[data[\"Spam\"] == 1][\"Text\"]\n",
    "ham_messages = data[data[\"Spam\"] == 0][\"Text\"]\n",
    "\n",
    "# Store common words in Spam/Ham\n",
    "spam_messages.apply(getSpam)\n",
    "ham_messages.apply(getHam)\n",
    "\n",
    "\n",
    "def countSpam(text):\n",
    "    count = 0\n",
    "    for x in text.split():\n",
    "        if x in spam_words:\n",
    "            count += spam_words.count(x)\n",
    "    return count\n",
    "\n",
    "def countHam(text):\n",
    "    count = 0\n",
    "    for x in text.split():\n",
    "        if x in ham_words:\n",
    "            count += ham_words.count(x)\n",
    "    return count\n",
    "\n",
    "def getCounts(data):\n",
    "    SpamCount = data.Text.apply(countSpam)\n",
    "    HamCount = data.Text.apply(countHam)\n",
    "    data[\"Diff\"] = SpamCount - HamCount\n",
    "    return data\n",
    "\n",
    "def categorize(diff):\n",
    "    if diff <= 0:\n",
    "        return 0\n",
    "    else:\n",
    "        return 1\n",
    "\n",
    "def apply_calc(data):\n",
    "    data = getCounts(data)\n",
    "    data.Diff = data.Diff.apply(categorize)\n",
    "    return data\n",
    "\n",
    "data = apply_calc(data)\n"
   ]
  },
  {
   "cell_type": "code",
   "execution_count": 13,
   "id": "530bce02",
   "metadata": {},
   "outputs": [
    {
     "data": {
      "text/html": [
       "<div>\n",
       "<style scoped>\n",
       "    .dataframe tbody tr th:only-of-type {\n",
       "        vertical-align: middle;\n",
       "    }\n",
       "\n",
       "    .dataframe tbody tr th {\n",
       "        vertical-align: top;\n",
       "    }\n",
       "\n",
       "    .dataframe thead th {\n",
       "        text-align: right;\n",
       "    }\n",
       "</style>\n",
       "<table border=\"1\" class=\"dataframe\">\n",
       "  <thead>\n",
       "    <tr style=\"text-align: right;\">\n",
       "      <th></th>\n",
       "      <th>Spam</th>\n",
       "      <th>Text</th>\n",
       "      <th>Length</th>\n",
       "      <th>Diff</th>\n",
       "    </tr>\n",
       "  </thead>\n",
       "  <tbody>\n",
       "    <tr>\n",
       "      <th>0</th>\n",
       "      <td>0</td>\n",
       "      <td>jurong point crazy available bugis great world...</td>\n",
       "      <td>75</td>\n",
       "      <td>0</td>\n",
       "    </tr>\n",
       "    <tr>\n",
       "      <th>1</th>\n",
       "      <td>0</td>\n",
       "      <td>lar joking wif oni</td>\n",
       "      <td>20</td>\n",
       "      <td>0</td>\n",
       "    </tr>\n",
       "    <tr>\n",
       "      <th>2</th>\n",
       "      <td>1</td>\n",
       "      <td>free entry wkly comp win cup final tkts may te...</td>\n",
       "      <td>100</td>\n",
       "      <td>1</td>\n",
       "    </tr>\n",
       "    <tr>\n",
       "      <th>3</th>\n",
       "      <td>0</td>\n",
       "      <td>dun say early hor already say</td>\n",
       "      <td>30</td>\n",
       "      <td>0</td>\n",
       "    </tr>\n",
       "    <tr>\n",
       "      <th>4</th>\n",
       "      <td>0</td>\n",
       "      <td>nah dont think goes usf lives around though</td>\n",
       "      <td>50</td>\n",
       "      <td>0</td>\n",
       "    </tr>\n",
       "  </tbody>\n",
       "</table>\n",
       "</div>"
      ],
      "text/plain": [
       "   Spam                                               Text Length  Diff\n",
       "0     0  jurong point crazy available bugis great world...     75     0\n",
       "1     0                                 lar joking wif oni     20     0\n",
       "2     1  free entry wkly comp win cup final tkts may te...    100     1\n",
       "3     0                      dun say early hor already say     30     0\n",
       "4     0        nah dont think goes usf lives around though     50     0"
      ]
     },
     "execution_count": 13,
     "metadata": {},
     "output_type": "execute_result"
    }
   ],
   "source": [
    "data.head()"
   ]
  },
  {
   "cell_type": "code",
   "execution_count": 14,
   "id": "4149e759",
   "metadata": {},
   "outputs": [
    {
     "data": {
      "text/plain": [
       "219"
      ]
     },
     "execution_count": 14,
     "metadata": {},
     "output_type": "execute_result"
    }
   ],
   "source": [
    "spam_words.count(\"free\")"
   ]
  },
  {
   "cell_type": "code",
   "execution_count": 15,
   "id": "dffbf2d6",
   "metadata": {},
   "outputs": [
    {
     "data": {
      "text/plain": [
       "59"
      ]
     },
     "execution_count": 15,
     "metadata": {},
     "output_type": "execute_result"
    }
   ],
   "source": [
    "ham_words.count(\"free\")"
   ]
  },
  {
   "cell_type": "markdown",
   "id": "403556ef",
   "metadata": {},
   "source": [
    "Now that we've the algorithm to generate the required data(diff), we can try our model."
   ]
  },
  {
   "cell_type": "markdown",
   "id": "7339fae4",
   "metadata": {},
   "source": [
    "### Spliting train and test data"
   ]
  },
  {
   "cell_type": "code",
   "execution_count": 16,
   "id": "deb41766",
   "metadata": {},
   "outputs": [],
   "source": [
    "from sklearn.model_selection import train_test_split, GridSearchCV\n",
    "\n",
    "X = data.drop([\"Spam\"], axis=1)\n",
    "X_train, X_test, y_train, y_test = train_test_split(X, data.Spam, test_size=0.2, random_state=0)"
   ]
  },
  {
   "cell_type": "code",
   "execution_count": 17,
   "id": "a7faa97b",
   "metadata": {},
   "outputs": [
    {
     "name": "stdout",
     "output_type": "stream",
     "text": [
      "                                                   Text Length  Diff\n",
      "1114     nothis kallis home groundamla home town durban     50     0\n",
      "3589         escape theatre going watch kavalan minutes     50     0\n",
      "3095  walked moms right stagwood pass right winterst...    100     0\n",
      "1012                              dunno close oredi fan     30     0\n",
      "3320                                         right work     10     0\n",
      "...                                                 ...    ...   ...\n",
      "4931                            match startedindia ltgt     30     0\n",
      "3264  want new nokia colour phone deliveredtomorrow ...    200     1\n",
      "1653  bugis juz wat walking home oredi late reply os...     75     0\n",
      "2607          yeah lol luckily didnt starring role like     50     0\n",
      "2732      dare stupid wont tell anything hear wont talk     50     0\n",
      "\n",
      "[4457 rows x 3 columns]\n"
     ]
    }
   ],
   "source": [
    "print(X_train)"
   ]
  },
  {
   "cell_type": "code",
   "execution_count": 18,
   "id": "799d55db",
   "metadata": {},
   "outputs": [
    {
     "name": "stdout",
     "output_type": "stream",
     "text": [
      "                                                   Text Length  Diff\n",
      "4456                      aight plan come later tonight     30     0\n",
      "690                                           farm open     10     0\n",
      "944   sent scores sophas secondary application schoo...    200     0\n",
      "3768  see message leaving congrats dear school wat p...     50     0\n",
      "1189                    case guess ill see campus lodge     50     0\n",
      "...                                                 ...    ...   ...\n",
      "2906                                             alrite     10     0\n",
      "1270  sorry chikku cell got problem thts able reply msg     50     0\n",
      "3944             gentle princess make sweet gentle love     50     0\n",
      "2124  beautiful truth gravity read carefully heart f...    200     0\n",
      "253   ups days also shipping company takes wks way u...    100     0\n",
      "\n",
      "[1115 rows x 3 columns]\n"
     ]
    }
   ],
   "source": [
    "print(X_test)"
   ]
  },
  {
   "cell_type": "code",
   "execution_count": 19,
   "id": "b6e6ad49",
   "metadata": {},
   "outputs": [
    {
     "name": "stdout",
     "output_type": "stream",
     "text": [
      "1114    0\n",
      "3589    0\n",
      "3095    0\n",
      "1012    0\n",
      "3320    0\n",
      "       ..\n",
      "4931    0\n",
      "3264    1\n",
      "1653    0\n",
      "2607    0\n",
      "2732    0\n",
      "Name: Spam, Length: 4457, dtype: int64\n"
     ]
    }
   ],
   "source": [
    "print(y_train)"
   ]
  },
  {
   "cell_type": "code",
   "execution_count": 20,
   "id": "f0f3fd4b",
   "metadata": {},
   "outputs": [
    {
     "name": "stdout",
     "output_type": "stream",
     "text": [
      "4456    0\n",
      "690     0\n",
      "944     0\n",
      "3768    0\n",
      "1189    0\n",
      "       ..\n",
      "2906    0\n",
      "1270    0\n",
      "3944    0\n",
      "2124    0\n",
      "253     0\n",
      "Name: Spam, Length: 1115, dtype: int64\n"
     ]
    }
   ],
   "source": [
    "print(y_test)"
   ]
  },
  {
   "cell_type": "markdown",
   "id": "06d799cf",
   "metadata": {},
   "source": [
    "Since we already have aur generated outputs in Diff column, we can now check the accuracy of the model on the training data"
   ]
  },
  {
   "cell_type": "code",
   "execution_count": 21,
   "id": "37840c05",
   "metadata": {
    "scrolled": true
   },
   "outputs": [
    {
     "name": "stdout",
     "output_type": "stream",
     "text": [
      "Accuracy on train data:  0.951312542068656\n",
      "Accuracy on test data:  0.9461883408071748\n"
     ]
    }
   ],
   "source": [
    "#accuracy of train and test data\n",
    "from sklearn.metrics import accuracy_score, make_scorer\n",
    "print(\"Accuracy on train data: \", accuracy_score(X_train.Diff, y_train))\n",
    "print(\"Accuracy on test data: \", accuracy_score(X_test.Diff, y_test))"
   ]
  },
  {
   "cell_type": "markdown",
   "id": "3b666552",
   "metadata": {},
   "source": [
    "A 94-95% accuracy sounds good for using only one parameter! However, we can further try using different models and try to include length as a parameter."
   ]
  },
  {
   "cell_type": "markdown",
   "id": "401ae6aa",
   "metadata": {},
   "source": [
    "### Building Model"
   ]
  },
  {
   "cell_type": "code",
   "execution_count": 22,
   "id": "293c9e29",
   "metadata": {},
   "outputs": [],
   "source": [
    "from sklearn.ensemble import RandomForestClassifier\n",
    "from sklearn.svm import SVC\n",
    "from sklearn.naive_bayes import GaussianNB"
   ]
  },
  {
   "cell_type": "code",
   "execution_count": 23,
   "id": "9926edd4",
   "metadata": {},
   "outputs": [],
   "source": [
    "X_train = X_train[[\"Length\", \"Diff\"]]\n",
    "X_test = X_test[[\"Length\", \"Diff\"]]"
   ]
  },
  {
   "cell_type": "code",
   "execution_count": 24,
   "id": "740c0f50",
   "metadata": {},
   "outputs": [
    {
     "name": "stdout",
     "output_type": "stream",
     "text": [
      "Accuracy with RandomForestClassifier:  0.9524663677130045\n",
      "Accuracy with SVC:  0.8511210762331839\n",
      "Accuracy with NaiveBayesian:  0.9461883408071748\n"
     ]
    }
   ],
   "source": [
    "# RandomForestModel\n",
    "# Trying different parameters and selecting the best one's to run\n",
    "clf = RandomForestClassifier()\n",
    "parameters = {'n_estimators': [4, 6, 9], \n",
    "              'max_features': ['log2', 'sqrt','auto'], \n",
    "              'criterion': ['entropy', 'gini'],\n",
    "              'max_depth': [2, 3, 5, 10], \n",
    "              'min_samples_split': [2, 3, 5],\n",
    "              'min_samples_leaf': [1,5,8]\n",
    "             }\n",
    "acc_scorer = make_scorer(accuracy_score)\n",
    "grid_obj = GridSearchCV(clf, parameters, scoring=acc_scorer, cv=3)\n",
    "grid_obj = grid_obj.fit(X_train, y_train)\n",
    "clf = grid_obj.best_estimator_\n",
    "\n",
    "clf.fit(X_train, y_train)\n",
    "\n",
    "# Predicting the reuslts and calculating the accuracy\n",
    "\n",
    "preds = clf.predict(X_test)\n",
    "\n",
    "clf_acc = nb_acc = accuracy_score(y_test, preds)\n",
    "print(\"Accuracy with RandomForestClassifier: \", accuracy_score(y_test, preds))\n",
    "\n",
    "# SVC model\n",
    "svc_clf = SVC(gamma='scale')\n",
    "svc_clf.fit(X_train,y_train)\n",
    "svc_preds = svc_clf.predict(X_test)\n",
    "\n",
    "svc_acc = accuracy_score(y_test, svc_preds)\n",
    "print(\"Accuracy with SVC: \", accuracy_score(y_test, svc_preds))\n",
    "\n",
    "nb = GaussianNB()\n",
    "nb.fit(X_train, y_train)\n",
    "nb_preds = nb.predict(X_test)\n",
    "\n",
    "nb_acc = accuracy_score(y_test, nb_preds)\n",
    "print(\"Accuracy with NaiveBayesian: \", accuracy_score(y_test, nb_preds))"
   ]
  },
  {
   "cell_type": "markdown",
   "id": "170b3438",
   "metadata": {},
   "source": [
    "We got a great accuracy with all models, including the programming approach! Our models are proving to be really great in detecting spam messages!"
   ]
  },
  {
   "cell_type": "code",
   "execution_count": 25,
   "id": "eb3beb56",
   "metadata": {},
   "outputs": [
    {
     "data": {
      "text/plain": [
       "<AxesSubplot:xlabel='Length', ylabel='count'>"
      ]
     },
     "execution_count": 25,
     "metadata": {},
     "output_type": "execute_result"
    },
    {
     "data": {
      "image/png": "[encoded data removed]",
      "text/plain": [
       "<Figure size 432x288 with 1 Axes>"
      ]
     },
     "metadata": {
      "needs_background": "light"
     },
     "output_type": "display_data"
    }
   ],
   "source": [
    "sns.countplot(x=X_test.Length, hue=y_test)"
   ]
  },
  {
   "cell_type": "markdown",
   "id": "68114eae",
   "metadata": {},
   "source": [
    "The model would be useless if we can't test custom inputs! Finally we create a function to interact with front-end for predicting spam category for manual input.\n"
   ]
  },
  {
   "cell_type": "markdown",
   "id": "2d65cedb",
   "metadata": {},
   "source": [
    "Since we had the most accuracy with RandomForestClassifier, we'll use it for our predictions."
   ]
  },
  {
   "cell_type": "code",
   "execution_count": 26,
   "id": "3d945763",
   "metadata": {},
   "outputs": [],
   "source": [
    "#defining the c_report and confusion matrix functions\n",
    "from sklearn.metrics import classification_report, confusion_matrix, accuracy_score\n",
    "\n",
    "def c_report(y_true, y_pred):\n",
    "   print(\"Classification Report\")\n",
    "   print(classification_report(y_true, y_pred))\n",
    "   acc_sc = accuracy_score(y_true, y_pred)\n",
    "   print(\"Accuracy : \"+ str(acc_sc))\n",
    "   return acc_sc\n",
    "\n",
    "def plot_confusion_matrix(y_true, y_pred):\n",
    "   mtx = confusion_matrix(y_true, y_pred)\n",
    "   sns.heatmap(mtx, annot=True, fmt='d', linewidths=.5, \n",
    "               cmap=\"Blues\", cbar=False)\n",
    "   plt.ylabel('True label')\n",
    "   plt.xlabel('Predicted label')"
   ]
  },
  {
   "cell_type": "code",
   "execution_count": 27,
   "id": "c7381a12",
   "metadata": {},
   "outputs": [
    {
     "data": {
      "image/png": "[encoded data removed]",
      "text/plain": [
       "<Figure size 432x288 with 1 Axes>"
      ]
     },
     "metadata": {
      "needs_background": "light"
     },
     "output_type": "display_data"
    }
   ],
   "source": [
    "#confusion matrix between data.spam and data.diff\n",
    "from sklearn.metrics import confusion_matrix\n",
    "plot_confusion_matrix(data.Spam, data.Diff)"
   ]
  },
  {
   "cell_type": "markdown",
   "id": "ef9c602f",
   "metadata": {},
   "source": [
    "#### To know the performance of the Random Forest Classifier"
   ]
  },
  {
   "cell_type": "code",
   "execution_count": 28,
   "id": "b59bd8e5",
   "metadata": {},
   "outputs": [
    {
     "data": {
      "image/png": "[encoded data removed]",
      "text/plain": [
       "<Figure size 432x288 with 1 Axes>"
      ]
     },
     "metadata": {
      "needs_background": "light"
     },
     "output_type": "display_data"
    }
   ],
   "source": [
    "#confusion matrix between y_test and preds\n",
    "plot_confusion_matrix(y_test, preds)"
   ]
  },
  {
   "cell_type": "code",
   "execution_count": 29,
   "id": "3eeee6ca",
   "metadata": {
    "scrolled": true
   },
   "outputs": [
    {
     "name": "stdout",
     "output_type": "stream",
     "text": [
      "Classification Report\n",
      "              precision    recall  f1-score   support\n",
      "\n",
      "           0       0.96      0.99      0.97       949\n",
      "           1       0.91      0.75      0.83       166\n",
      "\n",
      "    accuracy                           0.95      1115\n",
      "   macro avg       0.94      0.87      0.90      1115\n",
      "weighted avg       0.95      0.95      0.95      1115\n",
      "\n",
      "Accuracy : 0.9524663677130045\n"
     ]
    },
    {
     "data": {
      "text/plain": [
       "0.9524663677130045"
      ]
     },
     "execution_count": 29,
     "metadata": {},
     "output_type": "execute_result"
    }
   ],
   "source": [
    "#printing the classification report\n",
    "c_report(y_test, preds)"
   ]
  },
  {
   "cell_type": "code",
   "execution_count": 30,
   "id": "f2a5361f",
   "metadata": {},
   "outputs": [
    {
     "name": "stdout",
     "output_type": "stream",
     "text": [
      "Accuracy: 0.95\n",
      "Precision: 0.91\n",
      "Recall: 0.75\n",
      "F1_score: 0.83\n"
     ]
    }
   ],
   "source": [
    "#printing the accuracy,precision,recall and F1-score of Random Forest Classifier\n",
    "from sklearn.metrics import precision_score, accuracy_score, recall_score, f1_score\n",
    "print(f\"Accuracy: {round(accuracy_score(y_test, preds), 2)}\") \n",
    "print(f\"Precision: {round(precision_score(y_test, preds), 2)}\")\n",
    "print(f\"Recall: {round(recall_score(y_test, preds), 2)}\")\n",
    "print(f\"F1_score: {round(f1_score(y_test, preds), 2)}\")"
   ]
  },
  {
   "cell_type": "markdown",
   "id": "500fb17e",
   "metadata": {},
   "source": [
    "### Output of the model"
   ]
  },
  {
   "cell_type": "code",
   "execution_count": 31,
   "id": "0f2f23cf",
   "metadata": {},
   "outputs": [
    {
     "name": "stdout",
     "output_type": "stream",
     "text": [
      "Enter message: hi hello bye\n",
      "Ham\n"
     ]
    }
   ],
   "source": [
    "def manual_entry():\n",
    "    global clf\n",
    "    temp = pd.DataFrame(columns=[\"Text\"])\n",
    "    temp = temp.append({\"Text\": input(\"Enter message: \")}, ignore_index=True)\n",
    "\n",
    "    temp = format_length(temp)\n",
    "    temp = apply_calc(temp)\n",
    "    temp = temp.drop([\"Text\"], axis=1)\n",
    "\n",
    "    if temp.Diff.loc[0] == 1:\n",
    "        print(\"Spam\")\n",
    "    else:\n",
    "        print(\"Ham\")\n",
    "        \n",
    "manual_entry()"
   ]
  },
  {
   "cell_type": "code",
   "execution_count": 32,
   "id": "05027dd5",
   "metadata": {},
   "outputs": [
    {
     "name": "stdout",
     "output_type": "stream",
     "text": [
      "Enter message: SIX chances to win the cash!\n",
      "Spam\n"
     ]
    }
   ],
   "source": [
    "def manual_entry():\n",
    "    global clf\n",
    "    temp = pd.DataFrame(columns=[\"Text\"])\n",
    "    temp = temp.append({\"Text\": input(\"Enter message: \")}, ignore_index=True)\n",
    "\n",
    "    temp = format_length(temp)\n",
    "    temp = apply_calc(temp)\n",
    "    temp = temp.drop([\"Text\"], axis=1)\n",
    "\n",
    "    if temp.Diff.loc[0] == 1:\n",
    "        print(\"Spam\")\n",
    "    else:\n",
    "        print(\"Ham\")\n",
    "        \n",
    "manual_entry()"
   ]
  }
 ],
 "metadata": {
  "kernelspec": {
   "display_name": "Python 3",
   "language": "python",
   "name": "python3"
  },
  "language_info": {
   "codemirror_mode": {
    "name": "ipython",
    "version": 3
   },
   "file_extension": ".py",
   "mimetype": "text/x-python",
   "name": "python",
   "nbconvert_exporter": "python",
   "pygments_lexer": "ipython3",
   "version": "3.8.8"
  }
 },
 "nbformat": 4,
 "nbformat_minor": 5
}
